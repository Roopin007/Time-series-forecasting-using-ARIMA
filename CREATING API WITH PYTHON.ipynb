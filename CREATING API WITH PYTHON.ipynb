{
 "cells": [
  {
   "cell_type": "code",
   "execution_count": 3,
   "id": "f5d5d767",
   "metadata": {},
   "outputs": [],
   "source": [
    "import requests\n",
    "url = 'https://api.textlocal.in/'\n",
    "params = {'username':'roopin007@gmail.com',\n",
    "          'apiKey':'Nzg2MzY0MzU2OTY0NjE3NjM0MzE3MDRiNDEzMTZkNzY='\n",
    "}"
   ]
  },
  {
   "cell_type": "code",
   "execution_count": 5,
   "id": "321e59a4",
   "metadata": {},
   "outputs": [],
   "source": [
    "def check_balance(url):\n",
    "    url = url+'balance'\n",
    "    response = requests.get(url,params=params)\n",
    "    return response.json()\n",
    "def send_sms(url,params):\n",
    "    url=url+'send'\n",
    "    #Phone numbers inside braces {} in commas\n",
    "    numbers={'9061476109','9061471109'}\n",
    "    message = {'Hi, This is a Sample message'}\n",
    "    params['numbers'] = numbers\n",
    "    params['message'] = message\n",
    "    response = requests.post(url,params=params)\n",
    "    return response.json()\n",
    "\n",
    "def inbox(url):\n",
    "    url = url+'get_inboxes'\n",
    "    response = requests.get(url,params=params)\n",
    "    return response.json()"
   ]
  },
  {
   "cell_type": "code",
   "execution_count": null,
   "id": "0c0b816d",
   "metadata": {},
   "outputs": [],
   "source": []
  }
 ],
 "metadata": {
  "kernelspec": {
   "display_name": "Python 3 (ipykernel)",
   "language": "python",
   "name": "python3"
  },
  "language_info": {
   "codemirror_mode": {
    "name": "ipython",
    "version": 3
   },
   "file_extension": ".py",
   "mimetype": "text/x-python",
   "name": "python",
   "nbconvert_exporter": "python",
   "pygments_lexer": "ipython3",
   "version": "3.9.13"
  }
 },
 "nbformat": 4,
 "nbformat_minor": 5
}
